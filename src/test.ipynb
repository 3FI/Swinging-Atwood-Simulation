{
 "cells": [
  {
   "cell_type": "code",
   "execution_count": 27,
   "metadata": {},
   "outputs": [],
   "source": [
    "import sys\n",
    "sys.path.append('../libraries')\n",
    "\n",
    "import custom_ODE_Solver\n",
    "\n",
    "import matplotlib.pyplot as plt\n",
    "import matplotlib.animation as animation\n",
    "import numpy as np\n",
    "import time\n",
    "import scipy\n",
    "import sympy"
   ]
  },
  {
   "cell_type": "code",
   "execution_count": 28,
   "metadata": {},
   "outputs": [
    {
     "name": "stderr",
     "output_type": "stream",
     "text": [
      "MovieWriter ffmpeg unavailable; using Pillow instead.\n"
     ]
    },
    {
     "data": {
      "image/png": "[encoded data removed]",
      "text/plain": [
       "<Figure size 432x432 with 1 Axes>"
      ]
     },
     "metadata": {
      "needs_background": "light"
     },
     "output_type": "display_data"
    }
   ],
   "source": [
    "x0 = np.array([ 5, 0, np.pi/4, 1  ])\n",
    "tf = 20\n",
    "dt = 0.02\n",
    "M = 4.5\n",
    "m = 1\n",
    "\n",
    "def derivs(t,x):\n",
    "    r,pr,theta,p_theta = x\n",
    "    dr = pr/(M+m)\n",
    "    dpr = p_theta**2 / (m*r**3) - M*scipy.constants.g + m*scipy.constants.g*np.cos(theta)\n",
    "    dtheta = p_theta / (m*r**2)\n",
    "    dp_theta = -m*scipy.constants.g*r*np.sin(theta)\n",
    "    return np.array([dr,dpr,dtheta,dp_theta])\n",
    "\n",
    "\n",
    "path = custom_ODE_Solver.RK4(int(tf/dt),dt,x0,derivs)\n",
    "r = path[:,0]\n",
    "theta = path[:,2]\n",
    "X = r*np.sin(theta); Y = -r*np.cos(theta)\n",
    "fig,ax = plt.subplots(figsize=(6,6))\n",
    "scat = ax.scatter(X[:0],Y[:0],s=2,c=np.arange(X[:0].size),cmap='rainbow')\n",
    "\n",
    "def update(num, x, y, scat):\n",
    "    data = np.stack([x[:num], y[:num]]).T\n",
    "    scat.set_offsets(data)\n",
    "    #scat.set_color(np.arange(x[:num].size))\n",
    "    return scat,\n",
    "\n",
    "test = animation.FuncAnimation(fig, update, len(X), interval=100, fargs=[X, Y, scat], blit=True)\n",
    "test.save('test.gif', fps=60)"
   ]
  }
 ],
 "metadata": {
  "kernelspec": {
   "display_name": "Python 3",
   "language": "python",
   "name": "python3"
  },
  "language_info": {
   "codemirror_mode": {
    "name": "ipython",
    "version": 3
   },
   "file_extension": ".py",
   "mimetype": "text/x-python",
   "name": "python",
   "nbconvert_exporter": "python",
   "pygments_lexer": "ipython3",
   "version": "3.9.13"
  }
 },
 "nbformat": 4,
 "nbformat_minor": 2
}
